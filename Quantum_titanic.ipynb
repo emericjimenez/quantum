{
 "cells": [
  {
   "cell_type": "markdown",
   "id": "c77ad13b-cb54-4a91-8ad6-bf4e51ac0ac6",
   "metadata": {},
   "source": [
    "# QUANTUM PREDICTION USING NEURAL NETWORKS"
   ]
  },
  {
   "cell_type": "code",
   "execution_count": 1,
   "id": "5e9356a9-451d-4558-b96c-d88d0bbb87b7",
   "metadata": {
    "tags": []
   },
   "outputs": [],
   "source": [
    "#!pip install qiskit_algorithms\n",
    "#!pip install qiskit-machine-learning==0.7.1\n",
    "#!pip install 'qiskit-machine-learning[torch]'\n",
    "#!pip install --upgrade pip"
   ]
  },
  {
   "cell_type": "markdown",
   "id": "a6ee7d95-82f9-4e15-ad68-c4fed68b30c4",
   "metadata": {},
   "source": [
    "## IMPORTS"
   ]
  },
  {
   "cell_type": "code",
   "execution_count": 2,
   "id": "fd47afdd-6c84-4f47-836e-ac055c7bdb2c",
   "metadata": {
    "tags": []
   },
   "outputs": [],
   "source": [
    "from qiskit.circuit.library import RealAmplitudes\n",
    "from qiskit_algorithms.optimizers import COBYLA\n",
    "from qiskit_algorithms.utils import algorithm_globals\n",
    "from qiskit_machine_learning.algorithms.classifiers import NeuralNetworkClassifier\n",
    "from qiskit_machine_learning.neural_networks import SamplerQNN\n",
    "from qiskit_machine_learning.circuit.library import QNNCircuit\n",
    "\n",
    "import matplotlib.pyplot as plt\n",
    "from tqdm import tqdm\n",
    "import numpy as np\n",
    "import pandas as pd\n",
    "from sklearn.preprocessing import StandardScaler\n",
    "from sklearn.metrics import accuracy_score\n",
    "algorithm_globals.random_seed = 42"
   ]
  },
  {
   "cell_type": "markdown",
   "id": "7e09c472-c9d8-4920-9153-c22cccd1a5a5",
   "metadata": {},
   "source": [
    "## READ AND PREPARE"
   ]
  },
  {
   "cell_type": "code",
   "execution_count": 3,
   "id": "aa556277-8f29-41ea-8676-69f4f918bfaf",
   "metadata": {
    "tags": []
   },
   "outputs": [],
   "source": [
    "data = pd.read_csv(\"data/train.csv\")\n",
    "data.head()\n",
    "\n",
    "data.loc[(data[\"Pclass\"] == 1) & (data[\"Survived\"] == 1) & (data[\"Sex\"] == \"female\"), \"Age\"] = 38.0\n",
    "data.loc[(data[\"Pclass\"] == 2) & (data[\"Survived\"] == 0) & (data[\"Sex\"] == \"female\"), \"Age\"] = 26.0\n",
    "data.loc[(data[\"Pclass\"] == 2) & (data[\"Survived\"] == 1) & (data[\"Sex\"] == \"female\"), \"Age\"] = 17.0\n",
    "\n",
    "data.loc[(data[\"Pclass\"] == 3) & (data[\"Survived\"] == 0) & (data[\"Sex\"] == \"female\"), \"Age\"] = 8.0\n",
    "data.loc[(data[\"Pclass\"] == 3) & (data[\"Survived\"] == 1) & (data[\"Sex\"] == \"female\"), \"Age\"] = 27.0\n",
    "\n",
    "data.loc[(data[\"Pclass\"] == 1) & (data[\"Survived\"] == 1) & (data[\"Sex\"] == \"male\"), \"Age\"] = 23.0\n",
    "data.loc[(data[\"Pclass\"] == 1) & (data[\"Survived\"] == 0) & (data[\"Sex\"] == \"male\"), \"Age\"] = 19.0\n",
    "\n",
    "data.loc[(data[\"Pclass\"] == 2) & (data[\"Survived\"] == 1) & (data[\"Sex\"] == \"male\"), \"Age\"] = 62.0\n",
    "data.loc[(data[\"Pclass\"] == 2) & (data[\"Survived\"] == 0) & (data[\"Sex\"] == \"male\"), \"Age\"] = 35.0\n",
    "\n",
    "data.loc[(data[\"Pclass\"] == 3) & (data[\"Survived\"] == 1) & (data[\"Sex\"] == \"male\"), \"Age\"] = 12.0\n",
    "data.loc[(data[\"Pclass\"] == 3) & (data[\"Survived\"] == 0) & (data[\"Sex\"] == \"male\"), \"Age\"] = 35.0\n",
    "\n",
    "data.loc[data[\"Sex\"] == \"male\", \"Sex\"] = 1\n",
    "data.loc[data[\"Sex\"] == \"female\", \"Sex\"] = 0\n",
    "\n",
    "data1 = data[[\"Pclass\", \"Sex\", \"Age\", \"Parch\", \"Fare\", \"Survived\"]].copy()\n",
    "\n",
    "df_train = data1.sample(frac=0.89, random_state=0)\n",
    "df_valid = data1.drop(df_train.index)\n",
    "\n",
    "X_train = df_train.drop('Survived', axis=1)\n",
    "X_valid = df_valid.drop('Survived', axis=1)\n",
    "y_train = df_train['Survived']\n",
    "y_valid = df_valid['Survived']\n",
    "\n",
    "scaler = StandardScaler()\n",
    "X_train  = scaler.fit_transform(X_train)\n",
    "X_valid  = scaler.fit_transform(X_valid)\n"
   ]
  },
  {
   "cell_type": "markdown",
   "id": "8aaefd51-3eeb-4600-b1e3-f325d3fa0054",
   "metadata": {},
   "source": [
    "# QUANTUM NEURAL NETWORK\n",
    "## This code sets up a quantum neural network for a binary classification task. The QNN is trained as a classifier using the specified optimizer."
   ]
  },
  {
   "cell_type": "code",
   "execution_count": 4,
   "id": "40699f03-169c-4948-8587-a745b2b0dad6",
   "metadata": {
    "tags": []
   },
   "outputs": [
    {
     "name": "stderr",
     "output_type": "stream",
     "text": [
      "Iterations: 100%|██████████| 7/7 [20:03<00:00, 171.94s/iteration]\n"
     ]
    },
    {
     "name": "stdout",
     "output_type": "stream",
     "text": [
      "Accuracy:  0.4897959183673469\n"
     ]
    }
   ],
   "source": [
    "#Function to monitor iterations\n",
    "def callback_graph(weights, obj_func_eval):\n",
    "    progress_bar.update(1)    \n",
    "\n",
    "num_inputs = X_train.shape[1]\n",
    "max_iter = 7\n",
    "progress_bar = tqdm(total=max_iter, desc=\"Iterations\", unit=\"iteration\") \n",
    "# Define a Quantum Neural Network (QNN) circuit using RealAmplitudes as the ansatz\n",
    "qc = QNNCircuit(ansatz=RealAmplitudes(num_inputs, reps=1))\n",
    "\n",
    "# Define a parity function that takes an integer 'x' and returns the parity (odd or even) of the number of set bits (1s) in its binary representation\n",
    "def parity(x):    \n",
    "    return \"{:b}\".format(x).count(\"1\") % 2\n",
    "\n",
    "# Set the output shape for the Quantum Neural Network (QNN)\n",
    "output_shape = 2 \n",
    "\n",
    "# Create a SamplerQNN, which is a quantum neural network with a specified circuit, interpretation function, and output shape\n",
    "sampler_qnn = SamplerQNN(\n",
    "    circuit=qc,\n",
    "    interpret=parity,\n",
    "    output_shape=output_shape,\n",
    ")\n",
    "\n",
    "# Create a NeuralNetworkClassifier using the SamplerQNN as the neural network and COBYLA as the optimizer\n",
    "# The classifier is designed for binary classification tasks, so 'output_shape' is set to 2\n",
    "NNC_model = NeuralNetworkClassifier(\n",
    "    neural_network=sampler_qnn, optimizer=COBYLA(maxiter=max_iter), callback=callback_graph\n",
    ")\n",
    "\n",
    "NNC_model.fit(X_train , y_train)\n",
    "\n",
    "progress_bar.close()\n",
    "plt.show()\n",
    "\n",
    "y_predict = NNC_model.predict(X_valid)\n",
    "accuracy = accuracy_score(y_predict, y_valid)\n",
    "print(\"Accuracy: \", accuracy)"
   ]
  },
  {
   "cell_type": "markdown",
   "id": "6d20eb0e-b4a8-4434-9a08-2fcd8719a0fc",
   "metadata": {},
   "source": [
    "## Test with the entire dataset"
   ]
  },
  {
   "cell_type": "code",
   "execution_count": 5,
   "id": "1d8bf529-be4a-4298-843d-8b2b32baf9f3",
   "metadata": {
    "tags": []
   },
   "outputs": [
    {
     "data": {
      "text/html": [
       "<div>\n",
       "<style scoped>\n",
       "    .dataframe tbody tr th:only-of-type {\n",
       "        vertical-align: middle;\n",
       "    }\n",
       "\n",
       "    .dataframe tbody tr th {\n",
       "        vertical-align: top;\n",
       "    }\n",
       "\n",
       "    .dataframe thead th {\n",
       "        text-align: right;\n",
       "    }\n",
       "</style>\n",
       "<table border=\"1\" class=\"dataframe\">\n",
       "  <thead>\n",
       "    <tr style=\"text-align: right;\">\n",
       "      <th></th>\n",
       "      <th>Pclass</th>\n",
       "      <th>Sex</th>\n",
       "      <th>Age</th>\n",
       "      <th>Parch</th>\n",
       "      <th>Fare</th>\n",
       "      <th>Survived</th>\n",
       "      <th>Predict</th>\n",
       "    </tr>\n",
       "  </thead>\n",
       "  <tbody>\n",
       "    <tr>\n",
       "      <th>0</th>\n",
       "      <td>3</td>\n",
       "      <td>1</td>\n",
       "      <td>35.0</td>\n",
       "      <td>0</td>\n",
       "      <td>7.2500</td>\n",
       "      <td>0</td>\n",
       "      <td>0</td>\n",
       "    </tr>\n",
       "    <tr>\n",
       "      <th>1</th>\n",
       "      <td>1</td>\n",
       "      <td>0</td>\n",
       "      <td>38.0</td>\n",
       "      <td>0</td>\n",
       "      <td>71.2833</td>\n",
       "      <td>1</td>\n",
       "      <td>1</td>\n",
       "    </tr>\n",
       "    <tr>\n",
       "      <th>2</th>\n",
       "      <td>3</td>\n",
       "      <td>0</td>\n",
       "      <td>27.0</td>\n",
       "      <td>0</td>\n",
       "      <td>7.9250</td>\n",
       "      <td>1</td>\n",
       "      <td>1</td>\n",
       "    </tr>\n",
       "    <tr>\n",
       "      <th>3</th>\n",
       "      <td>1</td>\n",
       "      <td>0</td>\n",
       "      <td>38.0</td>\n",
       "      <td>0</td>\n",
       "      <td>53.1000</td>\n",
       "      <td>1</td>\n",
       "      <td>0</td>\n",
       "    </tr>\n",
       "    <tr>\n",
       "      <th>4</th>\n",
       "      <td>3</td>\n",
       "      <td>1</td>\n",
       "      <td>35.0</td>\n",
       "      <td>0</td>\n",
       "      <td>8.0500</td>\n",
       "      <td>0</td>\n",
       "      <td>0</td>\n",
       "    </tr>\n",
       "    <tr>\n",
       "      <th>...</th>\n",
       "      <td>...</td>\n",
       "      <td>...</td>\n",
       "      <td>...</td>\n",
       "      <td>...</td>\n",
       "      <td>...</td>\n",
       "      <td>...</td>\n",
       "      <td>...</td>\n",
       "    </tr>\n",
       "    <tr>\n",
       "      <th>886</th>\n",
       "      <td>2</td>\n",
       "      <td>1</td>\n",
       "      <td>35.0</td>\n",
       "      <td>0</td>\n",
       "      <td>13.0000</td>\n",
       "      <td>0</td>\n",
       "      <td>1</td>\n",
       "    </tr>\n",
       "    <tr>\n",
       "      <th>887</th>\n",
       "      <td>1</td>\n",
       "      <td>0</td>\n",
       "      <td>38.0</td>\n",
       "      <td>0</td>\n",
       "      <td>30.0000</td>\n",
       "      <td>1</td>\n",
       "      <td>1</td>\n",
       "    </tr>\n",
       "    <tr>\n",
       "      <th>888</th>\n",
       "      <td>3</td>\n",
       "      <td>0</td>\n",
       "      <td>8.0</td>\n",
       "      <td>2</td>\n",
       "      <td>23.4500</td>\n",
       "      <td>0</td>\n",
       "      <td>0</td>\n",
       "    </tr>\n",
       "    <tr>\n",
       "      <th>889</th>\n",
       "      <td>1</td>\n",
       "      <td>1</td>\n",
       "      <td>23.0</td>\n",
       "      <td>0</td>\n",
       "      <td>30.0000</td>\n",
       "      <td>1</td>\n",
       "      <td>0</td>\n",
       "    </tr>\n",
       "    <tr>\n",
       "      <th>890</th>\n",
       "      <td>3</td>\n",
       "      <td>1</td>\n",
       "      <td>35.0</td>\n",
       "      <td>0</td>\n",
       "      <td>7.7500</td>\n",
       "      <td>0</td>\n",
       "      <td>0</td>\n",
       "    </tr>\n",
       "  </tbody>\n",
       "</table>\n",
       "<p>891 rows × 7 columns</p>\n",
       "</div>"
      ],
      "text/plain": [
       "     Pclass Sex   Age  Parch     Fare  Survived  Predict\n",
       "0         3   1  35.0      0   7.2500         0        0\n",
       "1         1   0  38.0      0  71.2833         1        1\n",
       "2         3   0  27.0      0   7.9250         1        1\n",
       "3         1   0  38.0      0  53.1000         1        0\n",
       "4         3   1  35.0      0   8.0500         0        0\n",
       "..      ...  ..   ...    ...      ...       ...      ...\n",
       "886       2   1  35.0      0  13.0000         0        1\n",
       "887       1   0  38.0      0  30.0000         1        1\n",
       "888       3   0   8.0      2  23.4500         0        0\n",
       "889       1   1  23.0      0  30.0000         1        0\n",
       "890       3   1  35.0      0   7.7500         0        0\n",
       "\n",
       "[891 rows x 7 columns]"
      ]
     },
     "execution_count": 5,
     "metadata": {},
     "output_type": "execute_result"
    }
   ],
   "source": [
    "test = data1.drop('Survived', axis=1)\n",
    "test  = scaler.fit_transform(test)\n",
    "y_predict_all = NNC_model.predict(test)\n",
    "data1['Predict'] = y_predict_all\n",
    "data1\n"
   ]
  },
  {
   "cell_type": "markdown",
   "id": "89bc733c-636d-400e-b3e8-3f8357991052",
   "metadata": {},
   "source": [
    "## Show Accuracy"
   ]
  },
  {
   "cell_type": "code",
   "execution_count": 6,
   "id": "6b149425-afa6-4a49-af26-9d02baefe870",
   "metadata": {
    "tags": []
   },
   "outputs": [
    {
     "name": "stdout",
     "output_type": "stream",
     "text": [
      "0.6767676767676768\n"
     ]
    }
   ],
   "source": [
    "accuracy = accuracy_score(data1[\"Survived\"], data1[\"Predict\"])\n",
    "print(accuracy)"
   ]
  }
 ],
 "metadata": {
  "kernelspec": {
   "display_name": "Python 3 (ipykernel)",
   "language": "python",
   "name": "python3"
  },
  "language_info": {
   "codemirror_mode": {
    "name": "ipython",
    "version": 3
   },
   "file_extension": ".py",
   "mimetype": "text/x-python",
   "name": "python",
   "nbconvert_exporter": "python",
   "pygments_lexer": "ipython3",
   "version": "3.11.5"
  },
  "widgets": {
   "application/vnd.jupyter.widget-state+json": {
    "state": {},
    "version_major": 2,
    "version_minor": 0
   }
  }
 },
 "nbformat": 4,
 "nbformat_minor": 5
}
